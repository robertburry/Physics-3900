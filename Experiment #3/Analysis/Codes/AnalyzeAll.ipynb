{
  "cells": [
    {
      "cell_type": "code",
      "source": [
        "import numpy as np\n",
        "import matplotlib.pyplot as plt\n",
        "import scipy.optimize as opt\n",
        "import os\n",
        "import glob"
      ],
      "outputs": [],
      "execution_count": 1,
      "metadata": {
        "collapsed": false,
        "outputHidden": false,
        "inputHidden": false
      }
    },
    {
      "cell_type": "code",
      "source": [
        "files = glob.glob('*.csv')"
      ],
      "outputs": [],
      "execution_count": 2,
      "metadata": {
        "collapsed": false,
        "outputHidden": false,
        "inputHidden": false
      }
    },
    {
      "cell_type": "code",
      "source": [
        "files"
      ],
      "outputs": [
        {
          "output_type": "execute_result",
          "execution_count": 3,
          "data": {
            "text/plain": [
              "['S35_300ml_big_wave.csv',\n",
              " 'S35_300ml_small_wave.csv',\n",
              " 'S135_test1_big_wave.csv',\n",
              " 'S35_350ml_small_wave.csv',\n",
              " 'S35_150ml_big_wave.csv',\n",
              " 'S35_600ml_big_wave.csv',\n",
              " 'S135_test2_small_wave.csv',\n",
              " 'S35_150ml_small_wave.csv',\n",
              " 'S135_test2_big_wave.csv',\n",
              " 'S35_350ml_big_wave.csv',\n",
              " 'S135_test1_small_wave.csv']"
            ]
          },
          "metadata": {}
        }
      ],
      "execution_count": 3,
      "metadata": {
        "collapsed": false,
        "outputHidden": false,
        "inputHidden": false
      }
    },
    {
      "cell_type": "code",
      "source": [
        "def fitfunc(x, A, λ, x0, y0):\n",
        "        return A * 1/np.cosh((x-x0)/λ)**2 + y0"
      ],
      "outputs": [],
      "execution_count": 4,
      "metadata": {
        "collapsed": false,
        "outputHidden": false,
        "inputHidden": false
      }
    },
    {
      "cell_type": "code",
      "source": [
        "def wavefit(name):\n",
        "    filename = name\n",
        "    x, y = np.loadtxt(filename,skiprows=1, delimiter=',', unpack=True)\n",
        "    name = os.path.splitext(filename)[0]\n",
        "    Aguess = max(y)\n",
        "    λguess = x[2*len(x)//3] - x[len(x)//3]\n",
        "    x0guess = np.mean(x)\n",
        "    y0guess = min(y)\n",
        "    p0 = [Aguess,λguess,x0guess,y0guess]\n",
        "    p, pcov = opt.curve_fit(fitfunc, x, y, p0=p0)\n",
        "    dp = np.sqrt(np.diag(pcov))\n",
        "    plt.plot(x, y, 'o', label='Collected Data')\n",
        "    plt.plot(x, fitfunc(x, *p),label=' Fitted Data')\n",
        "    plt.plot([], [], ' ', label=\"A = $%.2f \\pm %.2f$\" % (p[0],dp[0]))\n",
        "    plt.plot([], [], ' ', label=\"λ = $%.2f \\pm %.2f$\" % (p[1],dp[1]))\n",
        "    plt.errorbar(x,fitfunc(x,*p),fitfunc(x,*dp),capsize=2,ecolor='black',label=\"error in fit\")\n",
        "    plt.legend(loc='best', fontsize='small')\n",
        "    plt.suptitle(name +\" Collected data and a fit of the data with errors\")\n",
        "    plt.savefig(name + 'error.svg')\n",
        "    plt.close()\n",
        "    return"
      ],
      "outputs": [],
      "execution_count": 5,
      "metadata": {
        "collapsed": false,
        "outputHidden": false,
        "inputHidden": false
      }
    },
    {
      "cell_type": "code",
      "source": [
        "for x in files:\n",
        "    wavefit(x)"
      ],
      "outputs": [
        {
          "output_type": "stream",
          "name": "stderr",
          "text": [
            "/anaconda3/lib/python3.6/site-packages/ipykernel_launcher.py:2: RuntimeWarning: overflow encountered in square\n",
            "  \n"
          ]
        }
      ],
      "execution_count": 6,
      "metadata": {
        "collapsed": false,
        "outputHidden": false,
        "inputHidden": false
      }
    },
    {
      "cell_type": "code",
      "source": [],
      "outputs": [],
      "execution_count": 7,
      "metadata": {
        "collapsed": false,
        "outputHidden": false,
        "inputHidden": false
      }
    },
    {
      "cell_type": "code",
      "source": [],
      "outputs": [],
      "execution_count": null,
      "metadata": {
        "collapsed": false,
        "outputHidden": false,
        "inputHidden": false
      }
    }
  ],
  "metadata": {
    "kernel_info": {
      "name": "python3"
    },
    "language_info": {
      "name": "python",
      "version": "3.6.5",
      "mimetype": "text/x-python",
      "codemirror_mode": {
        "name": "ipython",
        "version": 3
      },
      "pygments_lexer": "ipython3",
      "nbconvert_exporter": "python",
      "file_extension": ".py"
    },
    "kernelspec": {
      "name": "python3",
      "language": "python",
      "display_name": "Python 3"
    },
    "nteract": {
      "version": "0.12.3"
    }
  },
  "nbformat": 4,
  "nbformat_minor": 4
}