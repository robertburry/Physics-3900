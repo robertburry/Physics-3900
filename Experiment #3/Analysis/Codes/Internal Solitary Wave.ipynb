{
  "cells": [
    {
      "cell_type": "code",
      "source": [
        "import numpy as np\n",
        "import matplotlib.pyplot as plt\n",
        "import scipy.optimize as opt\n",
        "import os"
      ],
      "outputs": [],
      "execution_count": 105,
      "metadata": {}
    },
    {
      "cell_type": "code",
      "source": [
        "filename = 'firstrun.csv'\n",
        "x, y = np.loadtxt(filename,skiprows=1, delimiter=',', unpack=True)\n",
        "name = os.path.splitext(filename)[0]"
      ],
      "outputs": [],
      "execution_count": 106,
      "metadata": {}
    },
    {
      "cell_type": "code",
      "source": [
        "plt.plot(x,y, 'o')"
      ],
      "outputs": [
        {
          "output_type": "execute_result",
          "execution_count": 107,
          "data": {
            "text/plain": [
              "[<matplotlib.lines.Line2D at 0x119b7d9e8>]"
            ]
          },
          "metadata": {}
        },
        {
          "output_type": "display_data",
          "data": {
            "text/plain": [
              "<Figure size 432x288 with 1 Axes>"
            ],
            "image/png": "[encoded data removed]"
          },
          "metadata": {}
        }
      ],
      "execution_count": 107,
      "metadata": {}
    },
    {
      "cell_type": "code",
      "source": [
        "def fitfunc(x, A, λ, x0, y0):\n",
        "    return A * 1/np.cosh((x-x0)/λ)**2 + y0"
      ],
      "outputs": [],
      "execution_count": 108,
      "metadata": {}
    },
    {
      "cell_type": "code",
      "source": [
        "Aguess = max(y)\n",
        "λguess = x[2*len(x)//3] - x[len(x)//3]\n",
        "x0guess = np.mean(x)\n",
        "y0guess = min(y)\n",
        "p0 = [Aguess,λguess,x0guess,y0guess]"
      ],
      "outputs": [],
      "execution_count": 109,
      "metadata": {}
    },
    {
      "cell_type": "code",
      "source": [
        "p, pcov = opt.curve_fit(fitfunc, x, y, p0=p0)"
      ],
      "outputs": [],
      "execution_count": 110,
      "metadata": {}
    },
    {
      "cell_type": "code",
      "source": [
        "plt.plot(x, y, 'o')\n",
        "plt.plot(x, fitfunc(x, *p))\n",
        "plt.savefig(name +'.png', bbox_inches = 'tight')"
      ],
      "outputs": [
        {
          "output_type": "display_data",
          "data": {
            "text/plain": [
              "<Figure size 432x288 with 1 Axes>"
            ],
            "image/png": "[encoded data removed]"
          },
          "metadata": {}
        }
      ],
      "execution_count": 111,
      "metadata": {}
    },
    {
      "cell_type": "code",
      "source": [
        "print(p)"
      ],
      "outputs": [
        {
          "output_type": "stream",
          "name": "stdout",
          "text": [
            "[1.3974739  3.68733948 6.94325973 0.49226962]\n"
          ]
        }
      ],
      "execution_count": 112,
      "metadata": {}
    },
    {
      "cell_type": "code",
      "source": [
        "dp = np.sqrt(np.diag(pcov))\n",
        "print(dp)"
      ],
      "outputs": [
        {
          "output_type": "stream",
          "name": "stdout",
          "text": [
            "[0.01663112 0.07090406 0.02164054 0.01770358]\n"
          ]
        }
      ],
      "execution_count": 113,
      "metadata": {}
    },
    {
      "cell_type": "code",
      "source": [
        "#new_path = '/users/RobertBurry/Desktop/Winter 2019/P3900/Lab #3/Rob Internal Wave/data.txt'"
      ],
      "outputs": [],
      "execution_count": 114,
      "metadata": {
        "collapsed": false,
        "outputHidden": false,
        "inputHidden": false
      }
    },
    {
      "cell_type": "code",
      "source": [
        "data = open(name+'.txt','w')\n",
        "data.writelines('p \\t dp \\n')"
      ],
      "outputs": [],
      "execution_count": 135,
      "metadata": {
        "collapsed": false,
        "outputHidden": false,
        "inputHidden": false
      }
    },
    {
      "cell_type": "code",
      "source": [
        "np.savetxt(name+'.txt', np.transpose([p,dp]))"
      ],
      "outputs": [],
      "execution_count": 136,
      "metadata": {
        "collapsed": false,
        "outputHidden": false,
        "inputHidden": false
      }
    },
    {
      "cell_type": "code",
      "source": [
        "data.close()"
      ],
      "outputs": [],
      "execution_count": 138,
      "metadata": {
        "collapsed": false,
        "outputHidden": false,
        "inputHidden": false
      }
    },
    {
      "cell_type": "code",
      "source": [],
      "outputs": [],
      "execution_count": null,
      "metadata": {
        "collapsed": false,
        "outputHidden": false,
        "inputHidden": false
      }
    }
  ],
  "metadata": {
    "kernelspec": {
      "name": "python3",
      "language": "python",
      "display_name": "Python 3"
    },
    "language_info": {
      "name": "python",
      "version": "3.6.5",
      "mimetype": "text/x-python",
      "codemirror_mode": {
        "name": "ipython",
        "version": 3
      },
      "pygments_lexer": "ipython3",
      "nbconvert_exporter": "python",
      "file_extension": ".py"
    },
    "kernel_info": {
      "name": "python3"
    },
    "nteract": {
      "version": "0.12.3"
    }
  },
  "nbformat": 4,
  "nbformat_minor": 2
}