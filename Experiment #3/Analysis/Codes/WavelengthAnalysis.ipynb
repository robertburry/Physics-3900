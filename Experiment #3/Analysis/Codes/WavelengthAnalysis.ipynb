{
  "cells": [
    {
      "cell_type": "code",
      "source": [
        "import numpy as np\n",
        "import matplotlib.pyplot as plt\n",
        "import scipy.optimize as opt\n",
        "import os\n",
        "\n",
        "def wavefit(filename):\n",
        "    filename = 'firstrun.csv'\n",
        "    x, y = np.loadtxt(filename,skiprows=1, delimiter=',', unpack=True)\n",
        "    name = os.path.splitext(filename)[0]\n",
        "    def fitfunc(x, A, λ, x0, y0):\n",
        "        return A * 1/np.cosh((x-x0)/λ)**2 + y0\n",
        "    Aguess = max(y)\n",
        "    λguess = x[2*len(x)//3] - x[len(x)//3]\n",
        "    x0guess = np.mean(x)\n",
        "    y0guess = min(y)\n",
        "    p0 = [Aguess,λguess,x0guess,y0guess]\n",
        "    p, pcov = opt.curve_fit(fitfunc, x, y, p0=p0)\n",
        "    plt.plot(x, y, 'o')\n",
        "    plt.plot(x, fitfunc(x, *p))\n",
        "    plt.savefig(name +'.png', bbox_inches = 'tight')\n",
        "    dp = np.sqrt(np.diag(pcov))\n",
        "    data = open(name +'.txt','w')\n",
        "    data.writelines('p \\t dp \\n')\n",
        "    np.savetxt(name+'.txt', np.transpose([p,dp]))\n",
        "    data.close()\n",
        "    return\n",
        "\n    "
      ],
      "outputs": [],
      "execution_count": 1,
      "metadata": {
        "collapsed": false,
        "outputHidden": false,
        "inputHidden": false
      }
    },
    {
      "cell_type": "code",
      "source": [],
      "outputs": [],
      "execution_count": 2,
      "metadata": {
        "collapsed": false,
        "outputHidden": false,
        "inputHidden": false
      }
    },
    {
      "cell_type": "code",
      "source": [],
      "outputs": [],
      "execution_count": null,
      "metadata": {
        "collapsed": false,
        "outputHidden": false,
        "inputHidden": false
      }
    }
  ],
  "metadata": {
    "kernel_info": {
      "name": "python3"
    },
    "language_info": {
      "name": "python",
      "version": "3.6.5",
      "mimetype": "text/x-python",
      "codemirror_mode": {
        "name": "ipython",
        "version": 3
      },
      "pygments_lexer": "ipython3",
      "nbconvert_exporter": "python",
      "file_extension": ".py"
    },
    "kernelspec": {
      "name": "python3",
      "language": "python",
      "display_name": "Python 3"
    },
    "nteract": {
      "version": "0.12.3"
    }
  },
  "nbformat": 4,
  "nbformat_minor": 4
}