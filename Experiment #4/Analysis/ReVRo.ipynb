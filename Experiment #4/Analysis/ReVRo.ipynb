{
  "cells": [
    {
      "cell_type": "code",
      "source": [
        "import numpy as np\n",
        "import matplotlib.pyplot as plt\n",
        "import scipy.optimize as opt\n",
        "import math\n",
        "from scipy.stats import linregress\n",
        "import os\n",
        "import pandas as pd"
      ],
      "outputs": [],
      "execution_count": 12,
      "metadata": {
        "collapsed": false,
        "outputHidden": false,
        "inputHidden": false
      }
    },
    {
      "cell_type": "code",
      "source": [
        "filename = 'C50.csv'\n",
        "name = os.path.splitext(filename)[0]\n",
        "vmeas, wlmeas, v, λ, f = np.loadtxt(filename,skiprows=1, delimiter=',', unpack=True)"
      ],
      "outputs": [],
      "execution_count": 46,
      "metadata": {
        "collapsed": false,
        "outputHidden": false,
        "inputHidden": false
      }
    },
    {
      "cell_type": "code",
      "source": [
        "d = 5.0e-3\n",
        "d2 = d**2"
      ],
      "outputs": [],
      "execution_count": 47,
      "metadata": {
        "collapsed": false,
        "outputHidden": false,
        "inputHidden": false
      }
    },
    {
      "cell_type": "code",
      "source": [
        "eta = 1.002e-3\n",
        "rho = 1000\n",
        "dynamic = eta/rho"
      ],
      "outputs": [],
      "execution_count": 48,
      "metadata": {
        "collapsed": false,
        "outputHidden": false,
        "inputHidden": false
      }
    },
    {
      "cell_type": "code",
      "source": [
        "Re = []\n",
        "for i in range(0,len(v)):\n",
        "    Re.append(((d*v[i])/dynamic))"
      ],
      "outputs": [],
      "execution_count": 49,
      "metadata": {
        "collapsed": false,
        "outputHidden": false,
        "inputHidden": false
      }
    },
    {
      "cell_type": "code",
      "source": [
        "Ro = []\n",
        "for i in range(0,len(λ)):\n",
        "    Ro.append(10*(d2*λ[i])/dynamic)"
      ],
      "outputs": [],
      "execution_count": 50,
      "metadata": {
        "collapsed": false,
        "outputHidden": false,
        "inputHidden": false
      }
    },
    {
      "cell_type": "code",
      "source": [
        "plt.plot(Re,Ro,'o')"
      ],
      "outputs": [
        {
          "output_type": "execute_result",
          "execution_count": 51,
          "data": {
            "text/plain": [
              "[<matplotlib.lines.Line2D at 0x1a1b32fe80>]"
            ]
          },
          "metadata": {}
        },
        {
          "output_type": "display_data",
          "data": {
            "text/plain": [
              "<Figure size 432x288 with 1 Axes>"
            ],
            "image/png": "[encoded data removed]"
          },
          "metadata": {}
        }
      ],
      "execution_count": 51,
      "metadata": {
        "collapsed": false,
        "outputHidden": false,
        "inputHidden": false
      }
    },
    {
      "cell_type": "code",
      "source": [
        "stat = linregress(Re,Ro)"
      ],
      "outputs": [],
      "execution_count": 52,
      "metadata": {
        "collapsed": false,
        "outputHidden": false,
        "inputHidden": false
      }
    },
    {
      "cell_type": "code",
      "source": [
        "stat"
      ],
      "outputs": [
        {
          "output_type": "execute_result",
          "execution_count": 53,
          "data": {
            "text/plain": [
              "LinregressResult(slope=0.82499999999999, intercept=-79.74051896207476, rvalue=0.947900232875353, pvalue=0.05209976712464703, stderr=0.1960548392669742)"
            ]
          },
          "metadata": {}
        }
      ],
      "execution_count": 53,
      "metadata": {
        "collapsed": false,
        "outputHidden": false,
        "inputHidden": false
      }
    },
    {
      "cell_type": "code",
      "source": [
        "x = np.arange(min(Re)-5,max(Re)+5,1)"
      ],
      "outputs": [],
      "execution_count": 54,
      "metadata": {
        "collapsed": false,
        "outputHidden": false,
        "inputHidden": false
      }
    },
    {
      "cell_type": "code",
      "source": [
        "y = (stat[0]*x + stat[1])"
      ],
      "outputs": [],
      "execution_count": 55,
      "metadata": {
        "collapsed": false,
        "outputHidden": false,
        "inputHidden": false
      }
    },
    {
      "cell_type": "code",
      "source": [
        "plt.plot(Re,Ro,'o',label= 'Collected Data')\n",
        "plt.plot(x,y, label='Fitted Data')\n",
        "plt.plot([], [], ' ', label=\"σ = %.3f\" % stat[4]) \n",
        "plt.plot([], [], ' ', label=\"R = %.3f\" % stat[2])\n",
        "plt.plot([], [], ' ', label=\"$R^2$ = %.3f\" % (stat[2]*stat[2]))\n",
        "plt.xlabel('Re')\n",
        "plt.ylabel('Ro')\n",
        "plt.legend(loc='best')\n",
        "plt.suptitle(name + ' Roshko vs. Reynolds')\n",
        "plt.savefig(name + 'RoRe.svg', bbox_inches='tight')\n",
        "plt.close()"
      ],
      "outputs": [],
      "execution_count": 56,
      "metadata": {
        "collapsed": false,
        "outputHidden": false,
        "inputHidden": false
      }
    },
    {
      "cell_type": "code",
      "source": [],
      "outputs": [],
      "execution_count": null,
      "metadata": {
        "collapsed": false,
        "outputHidden": false,
        "inputHidden": false
      }
    }
  ],
  "metadata": {
    "kernel_info": {
      "name": "python3"
    },
    "language_info": {
      "name": "python",
      "version": "3.6.5",
      "mimetype": "text/x-python",
      "codemirror_mode": {
        "name": "ipython",
        "version": 3
      },
      "pygments_lexer": "ipython3",
      "nbconvert_exporter": "python",
      "file_extension": ".py"
    },
    "kernelspec": {
      "name": "python3",
      "language": "python",
      "display_name": "Python 3"
    },
    "nteract": {
      "version": "0.12.3"
    }
  },
  "nbformat": 4,
  "nbformat_minor": 4
}