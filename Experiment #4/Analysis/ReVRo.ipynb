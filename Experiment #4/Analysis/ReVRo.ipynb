{
  "cells": [
    {
      "cell_type": "code",
      "source": [
        "import numpy as np\n",
        "import matplotlib.pyplot as plt\n",
        "import scipy.optimize as opt\n",
        "import math\n",
        "from scipy.stats import linregress\n",
        "import os\n",
        "import pandas as pd"
      ],
      "outputs": [],
      "execution_count": 318,
      "metadata": {
        "collapsed": false,
        "outputHidden": false,
        "inputHidden": false
      }
    },
    {
      "cell_type": "code",
      "source": [
        "filename = 'C954.csv'\n",
        "name = os.path.splitext(filename)[0]\n",
        "vmeas, wlmeas, v, λ, f = np.loadtxt(filename,skiprows=1, delimiter=',', unpack=True)"
      ],
      "outputs": [],
      "execution_count": 319,
      "metadata": {
        "collapsed": false,
        "outputHidden": false,
        "inputHidden": false
      }
    },
    {
      "cell_type": "code",
      "source": [
        "d = 9.54e-3\n",
        "d2 = d**2"
      ],
      "outputs": [],
      "execution_count": 320,
      "metadata": {
        "collapsed": false,
        "outputHidden": false,
        "inputHidden": false
      }
    },
    {
      "cell_type": "code",
      "source": [
        "eta = 1.002e-3\n",
        "rho = 1000\n",
        "dynamic = eta/rho"
      ],
      "outputs": [],
      "execution_count": 321,
      "metadata": {
        "collapsed": false,
        "outputHidden": false,
        "inputHidden": false
      }
    },
    {
      "cell_type": "code",
      "source": [
        "Re = []\n",
        "for i in range(0,len(v)):\n",
        "    Re.append(((d*v[i])/dynamic))"
      ],
      "outputs": [],
      "execution_count": 322,
      "metadata": {
        "collapsed": false,
        "outputHidden": false,
        "inputHidden": false
      }
    },
    {
      "cell_type": "code",
      "source": [
        "Ro = []\n",
        "for i in range(0,len(λ)):\n",
        "    Ro.append(10*(d2*λ[i])/dynamic)"
      ],
      "outputs": [],
      "execution_count": 323,
      "metadata": {
        "collapsed": false,
        "outputHidden": false,
        "inputHidden": false
      }
    },
    {
      "cell_type": "code",
      "source": [
        "plt.plot(Re,Ro,'o')"
      ],
      "outputs": [
        {
          "output_type": "execute_result",
          "execution_count": 324,
          "data": {
            "text/plain": [
              "[<matplotlib.lines.Line2D at 0x1a2657a4e0>]"
            ]
          },
          "metadata": {}
        },
        {
          "output_type": "display_data",
          "data": {
            "text/plain": [
              "<Figure size 432x288 with 1 Axes>"
            ],
            "image/png": "[encoded data removed]"
          },
          "metadata": {}
        }
      ],
      "execution_count": 324,
      "metadata": {
        "collapsed": false,
        "outputHidden": false,
        "inputHidden": false
      }
    },
    {
      "cell_type": "code",
      "source": [
        "stat = linregress(Re,Ro)"
      ],
      "outputs": [],
      "execution_count": 325,
      "metadata": {
        "collapsed": false,
        "outputHidden": false,
        "inputHidden": false
      }
    },
    {
      "cell_type": "code",
      "source": [
        "stat"
      ],
      "outputs": [
        {
          "output_type": "execute_result",
          "execution_count": 326,
          "data": {
            "text/plain": [
              "LinregressResult(slope=-0.11076052558563558, intercept=68.58553933537657, rvalue=-0.9553517064641449, pvalue=1.0384891667352467e-07, stderr=0.009888854249573394)"
            ]
          },
          "metadata": {}
        }
      ],
      "execution_count": 326,
      "metadata": {
        "collapsed": false,
        "outputHidden": false,
        "inputHidden": false
      }
    },
    {
      "cell_type": "code",
      "source": [
        "x = np.arange(min(Re)-5,max(Re)+5,1)"
      ],
      "outputs": [],
      "execution_count": 327,
      "metadata": {
        "collapsed": false,
        "outputHidden": false,
        "inputHidden": false
      }
    },
    {
      "cell_type": "code",
      "source": [
        "y = (stat[0]*x + stat[1])\n",
        "dy = (stat[4]*x)"
      ],
      "outputs": [],
      "execution_count": 328,
      "metadata": {
        "collapsed": false,
        "outputHidden": false,
        "inputHidden": false
      }
    },
    {
      "cell_type": "code",
      "source": [
        "plt.plot(Re,Ro,'o',label= 'Collected Data')\n",
        "plt.plot(x,y, label='Fitted Data')\n",
        "plt.xlabel('Re')\n",
        "plt.ylabel('Ro')\n",
        "plt.legend(loc='best')\n",
        "plt.suptitle(name + ' Roshko vs. Reynolds')\n",
        "plt.savefig(name + 'RoRe.svg', bbox_inches='tight')\n",
        "plt.close()"
      ],
      "outputs": [],
      "execution_count": 329,
      "metadata": {
        "collapsed": false,
        "outputHidden": false,
        "inputHidden": false
      }
    },
    {
      "cell_type": "code",
      "source": [
        "df = pd.DataFrame({\"Re\" : Re, \"Ro\" : Ro})\n",
        "df.to_csv(name+\"ReRo.csv\", index=False)"
      ],
      "outputs": [],
      "execution_count": 330,
      "metadata": {
        "collapsed": false,
        "outputHidden": false,
        "inputHidden": false
      }
    },
    {
      "cell_type": "code",
      "source": [],
      "outputs": [],
      "execution_count": null,
      "metadata": {
        "collapsed": false,
        "outputHidden": false,
        "inputHidden": false
      }
    }
  ],
  "metadata": {
    "kernel_info": {
      "name": "python3"
    },
    "language_info": {
      "name": "python",
      "version": "3.6.5",
      "mimetype": "text/x-python",
      "codemirror_mode": {
        "name": "ipython",
        "version": 3
      },
      "pygments_lexer": "ipython3",
      "nbconvert_exporter": "python",
      "file_extension": ".py"
    },
    "kernelspec": {
      "name": "python3",
      "language": "python",
      "display_name": "Python 3"
    },
    "nteract": {
      "version": "0.12.3"
    }
  },
  "nbformat": 4,
  "nbformat_minor": 4
}